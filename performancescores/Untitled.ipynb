{
 "cells": [
  {
   "cell_type": "code",
   "execution_count": null,
   "id": "fa7f6b7b-fb74-4682-adcd-7a3c01f40a5e",
   "metadata": {},
   "outputs": [],
   "source": [
    "import networkit as nk \n",
    "import numpy as np"
   ]
  },
  {
   "cell_type": "code",
   "execution_count": 2,
   "id": "ab295da8-bf75-4878-8788-a0ec01a7f965",
   "metadata": {},
   "outputs": [],
   "source": [
    "G = G = nk.readGraph('/work/brandtfa/2023/force2vec/fork/force2vec/datasets/input/com-youtube.nkb', nk.Format.NetworkitBinary)"
   ]
  },
  {
   "cell_type": "code",
   "execution_count": null,
   "id": "98dfe32d-d7fa-4a56-a9af-dd89054f43be",
   "metadata": {},
   "outputs": [],
   "source": [
    "iSets = []\n",
    "while(G.numberOfNodes() > 10):\n",
    "    I = nk.independentset.Luby().run(G)\n",
    "    iSets.append(I)\n",
    "    for ind,idx in enumerate(I):\n",
    "        if ind == True:\n",
    "            G.removeNode(idx)"
   ]
  },
  {
   "cell_type": "code",
   "execution_count": null,
   "id": "6d4a6391-8e58-4dd9-ae0e-7c98517fe7d2",
   "metadata": {},
   "outputs": [],
   "source": [
    "I = nk.independentset.Luby().run(G)\n",
    "print(np.sum(I))\n",
    "npI = np.array(I)\n",
    "\n",
    "for index, value in enumerate(npI):\n",
    "    if value == True:\n",
    "        G.removeNode(index)\n",
    "\n",
    "print(G.numberOfNodes())"
   ]
  },
  {
   "cell_type": "code",
   "execution_count": null,
   "id": "12105e29-86a7-4f76-a13f-dcb75b3e70af",
   "metadata": {},
   "outputs": [],
   "source": [
    "from networkit import vizbridges\n",
    "\n",
    "G = nk.Graph(7)\n"
   ]
  }
 ],
 "metadata": {
  "kernelspec": {
   "display_name": "Python 3 (ipykernel)",
   "language": "python",
   "name": "python3"
  },
  "language_info": {
   "codemirror_mode": {
    "name": "ipython",
    "version": 3
   },
   "file_extension": ".py",
   "mimetype": "text/x-python",
   "name": "python",
   "nbconvert_exporter": "python",
   "pygments_lexer": "ipython3",
   "version": "3.8.13"
  }
 },
 "nbformat": 4,
 "nbformat_minor": 5
}
